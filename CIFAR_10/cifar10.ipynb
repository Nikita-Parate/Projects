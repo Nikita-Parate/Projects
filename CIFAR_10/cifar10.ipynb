{
  "nbformat": 4,
  "nbformat_minor": 0,
  "metadata": {
    "colab": {
      "name": "cifar10.ipynb",
      "provenance": [],
      "collapsed_sections": []
    },
    "kernelspec": {
      "name": "python3",
      "display_name": "Python 3"
    },
    "accelerator": "GPU",
    "widgets": {
      "application/vnd.jupyter.widget-state+json": {
        "b76f5436aa9a40d59cf5094909107dcc": {
          "model_module": "@jupyter-widgets/controls",
          "model_name": "HBoxModel",
          "state": {
            "_view_name": "HBoxView",
            "_dom_classes": [],
            "_model_name": "HBoxModel",
            "_view_module": "@jupyter-widgets/controls",
            "_model_module_version": "1.5.0",
            "_view_count": null,
            "_view_module_version": "1.5.0",
            "box_style": "",
            "layout": "IPY_MODEL_1694b3572a6d43d3954ad88b05f1ea85",
            "_model_module": "@jupyter-widgets/controls",
            "children": [
              "IPY_MODEL_da90dbac7d9948088a798cc56d338ea7",
              "IPY_MODEL_4d43da26786c49f09e42c8e1592523c3"
            ]
          }
        },
        "1694b3572a6d43d3954ad88b05f1ea85": {
          "model_module": "@jupyter-widgets/base",
          "model_name": "LayoutModel",
          "state": {
            "_view_name": "LayoutView",
            "grid_template_rows": null,
            "right": null,
            "justify_content": null,
            "_view_module": "@jupyter-widgets/base",
            "overflow": null,
            "_model_module_version": "1.2.0",
            "_view_count": null,
            "flex_flow": null,
            "width": null,
            "min_width": null,
            "border": null,
            "align_items": null,
            "bottom": null,
            "_model_module": "@jupyter-widgets/base",
            "top": null,
            "grid_column": null,
            "overflow_y": null,
            "overflow_x": null,
            "grid_auto_flow": null,
            "grid_area": null,
            "grid_template_columns": null,
            "flex": null,
            "_model_name": "LayoutModel",
            "justify_items": null,
            "grid_row": null,
            "max_height": null,
            "align_content": null,
            "visibility": null,
            "align_self": null,
            "height": null,
            "min_height": null,
            "padding": null,
            "grid_auto_rows": null,
            "grid_gap": null,
            "max_width": null,
            "order": null,
            "_view_module_version": "1.2.0",
            "grid_template_areas": null,
            "object_position": null,
            "object_fit": null,
            "grid_auto_columns": null,
            "margin": null,
            "display": null,
            "left": null
          }
        },
        "da90dbac7d9948088a798cc56d338ea7": {
          "model_module": "@jupyter-widgets/controls",
          "model_name": "IntProgressModel",
          "state": {
            "_view_name": "ProgressView",
            "style": "IPY_MODEL_ab5a16cb4b474894847836a8f232993f",
            "_dom_classes": [],
            "description": "",
            "_model_name": "IntProgressModel",
            "bar_style": "info",
            "max": 1,
            "_view_module": "@jupyter-widgets/controls",
            "_model_module_version": "1.5.0",
            "value": 1,
            "_view_count": null,
            "_view_module_version": "1.5.0",
            "orientation": "horizontal",
            "min": 0,
            "description_tooltip": null,
            "_model_module": "@jupyter-widgets/controls",
            "layout": "IPY_MODEL_5d8cad5221844e7c8ff2bcba38fcb3a9"
          }
        },
        "4d43da26786c49f09e42c8e1592523c3": {
          "model_module": "@jupyter-widgets/controls",
          "model_name": "HTMLModel",
          "state": {
            "_view_name": "HTMLView",
            "style": "IPY_MODEL_bf267d6b890e4c90a7a903571d4e9507",
            "_dom_classes": [],
            "description": "",
            "_model_name": "HTMLModel",
            "placeholder": "​",
            "_view_module": "@jupyter-widgets/controls",
            "_model_module_version": "1.5.0",
            "value": " 170500096/? [00:30&lt;00:00, 17543101.05it/s]",
            "_view_count": null,
            "_view_module_version": "1.5.0",
            "description_tooltip": null,
            "_model_module": "@jupyter-widgets/controls",
            "layout": "IPY_MODEL_ea3e2918769847569f9972bac81c3ff7"
          }
        },
        "ab5a16cb4b474894847836a8f232993f": {
          "model_module": "@jupyter-widgets/controls",
          "model_name": "ProgressStyleModel",
          "state": {
            "_view_name": "StyleView",
            "_model_name": "ProgressStyleModel",
            "description_width": "initial",
            "_view_module": "@jupyter-widgets/base",
            "_model_module_version": "1.5.0",
            "_view_count": null,
            "_view_module_version": "1.2.0",
            "bar_color": null,
            "_model_module": "@jupyter-widgets/controls"
          }
        },
        "5d8cad5221844e7c8ff2bcba38fcb3a9": {
          "model_module": "@jupyter-widgets/base",
          "model_name": "LayoutModel",
          "state": {
            "_view_name": "LayoutView",
            "grid_template_rows": null,
            "right": null,
            "justify_content": null,
            "_view_module": "@jupyter-widgets/base",
            "overflow": null,
            "_model_module_version": "1.2.0",
            "_view_count": null,
            "flex_flow": null,
            "width": null,
            "min_width": null,
            "border": null,
            "align_items": null,
            "bottom": null,
            "_model_module": "@jupyter-widgets/base",
            "top": null,
            "grid_column": null,
            "overflow_y": null,
            "overflow_x": null,
            "grid_auto_flow": null,
            "grid_area": null,
            "grid_template_columns": null,
            "flex": null,
            "_model_name": "LayoutModel",
            "justify_items": null,
            "grid_row": null,
            "max_height": null,
            "align_content": null,
            "visibility": null,
            "align_self": null,
            "height": null,
            "min_height": null,
            "padding": null,
            "grid_auto_rows": null,
            "grid_gap": null,
            "max_width": null,
            "order": null,
            "_view_module_version": "1.2.0",
            "grid_template_areas": null,
            "object_position": null,
            "object_fit": null,
            "grid_auto_columns": null,
            "margin": null,
            "display": null,
            "left": null
          }
        },
        "bf267d6b890e4c90a7a903571d4e9507": {
          "model_module": "@jupyter-widgets/controls",
          "model_name": "DescriptionStyleModel",
          "state": {
            "_view_name": "StyleView",
            "_model_name": "DescriptionStyleModel",
            "description_width": "",
            "_view_module": "@jupyter-widgets/base",
            "_model_module_version": "1.5.0",
            "_view_count": null,
            "_view_module_version": "1.2.0",
            "_model_module": "@jupyter-widgets/controls"
          }
        },
        "ea3e2918769847569f9972bac81c3ff7": {
          "model_module": "@jupyter-widgets/base",
          "model_name": "LayoutModel",
          "state": {
            "_view_name": "LayoutView",
            "grid_template_rows": null,
            "right": null,
            "justify_content": null,
            "_view_module": "@jupyter-widgets/base",
            "overflow": null,
            "_model_module_version": "1.2.0",
            "_view_count": null,
            "flex_flow": null,
            "width": null,
            "min_width": null,
            "border": null,
            "align_items": null,
            "bottom": null,
            "_model_module": "@jupyter-widgets/base",
            "top": null,
            "grid_column": null,
            "overflow_y": null,
            "overflow_x": null,
            "grid_auto_flow": null,
            "grid_area": null,
            "grid_template_columns": null,
            "flex": null,
            "_model_name": "LayoutModel",
            "justify_items": null,
            "grid_row": null,
            "max_height": null,
            "align_content": null,
            "visibility": null,
            "align_self": null,
            "height": null,
            "min_height": null,
            "padding": null,
            "grid_auto_rows": null,
            "grid_gap": null,
            "max_width": null,
            "order": null,
            "_view_module_version": "1.2.0",
            "grid_template_areas": null,
            "object_position": null,
            "object_fit": null,
            "grid_auto_columns": null,
            "margin": null,
            "display": null,
            "left": null
          }
        }
      }
    }
  },
  "cells": [
    {
      "cell_type": "markdown",
      "metadata": {
        "id": "xqigeUUO5FmB",
        "colab_type": "text"
      },
      "source": [
        "USING PYTORCH"
      ]
    },
    {
      "cell_type": "code",
      "metadata": {
        "id": "g975YvH15LMC",
        "colab_type": "code",
        "colab": {}
      },
      "source": [
        "import torch\n",
        "import torchvision\n",
        "import torchvision.transforms as transforms\n",
        "import torch.nn as nn\n",
        "import torch.nn.functional as F\n",
        "import torch.optim as optim\n",
        "import numpy as np\n",
        "import pandas as pd\n",
        "import matplotlib.pyplot as plt"
      ],
      "execution_count": 0,
      "outputs": []
    },
    {
      "cell_type": "code",
      "metadata": {
        "id": "5DagfCOnWnFe",
        "colab_type": "code",
        "colab": {
          "base_uri": "https://localhost:8080/",
          "height": 51
        },
        "outputId": "b1413d63-5522-42cb-9921-03487a9d232c"
      },
      "source": [
        "# Using GPU from google colab\n",
        "print(torch.cuda.device_count())\n",
        "print(torch.cuda.get_device_name(0))\n",
        "cuda0 = torch.device('cuda:0')"
      ],
      "execution_count": 3,
      "outputs": [
        {
          "output_type": "stream",
          "text": [
            "1\n",
            "Tesla P100-PCIE-16GB\n"
          ],
          "name": "stdout"
        }
      ]
    },
    {
      "cell_type": "code",
      "metadata": {
        "id": "9dT__RVEbpFT",
        "colab_type": "code",
        "outputId": "ffac37c0-af5d-46ce-ad36-a6c0a732ec2e",
        "colab": {
          "base_uri": "https://localhost:8080/",
          "height": 100,
          "referenced_widgets": [
            "b76f5436aa9a40d59cf5094909107dcc",
            "1694b3572a6d43d3954ad88b05f1ea85",
            "da90dbac7d9948088a798cc56d338ea7",
            "4d43da26786c49f09e42c8e1592523c3",
            "ab5a16cb4b474894847836a8f232993f",
            "5d8cad5221844e7c8ff2bcba38fcb3a9",
            "bf267d6b890e4c90a7a903571d4e9507",
            "ea3e2918769847569f9972bac81c3ff7"
          ]
        }
      },
      "source": [
        "transform = transforms.Compose(\n",
        "    [transforms.ToTensor(),\n",
        "     transforms.Normalize((0.5, 0.5, 0.5), (0.5, 0.5, 0.5))])\n",
        "\n",
        "trainset = torchvision.datasets.CIFAR10(root='./data', train=True,\n",
        "                                        download=True, transform=transform)\n",
        "testset = torchvision.datasets.CIFAR10(root='./data', train=False,\n",
        "                                       download=True, transform=transform)"
      ],
      "execution_count": 4,
      "outputs": [
        {
          "output_type": "stream",
          "text": [
            "Downloading https://www.cs.toronto.edu/~kriz/cifar-10-python.tar.gz to ./data/cifar-10-python.tar.gz\n"
          ],
          "name": "stdout"
        },
        {
          "output_type": "display_data",
          "data": {
            "application/vnd.jupyter.widget-view+json": {
              "model_id": "b76f5436aa9a40d59cf5094909107dcc",
              "version_minor": 0,
              "version_major": 2
            },
            "text/plain": [
              "HBox(children=(IntProgress(value=1, bar_style='info', max=1), HTML(value='')))"
            ]
          },
          "metadata": {
            "tags": []
          }
        },
        {
          "output_type": "stream",
          "text": [
            "Extracting ./data/cifar-10-python.tar.gz to ./data\n",
            "Files already downloaded and verified\n"
          ],
          "name": "stdout"
        }
      ]
    },
    {
      "cell_type": "code",
      "metadata": {
        "id": "5waIs5mp8Mqh",
        "colab_type": "code",
        "colab": {}
      },
      "source": [
        "#Hyperparameters\n",
        "batch_size=16\n",
        "no_of_epoches =25\n",
        "learning_rate = 0.001\n",
        "momentum=0.9\n",
        "hidden_layer_1 = 512\n",
        "hidden_layer_2 = 128"
      ],
      "execution_count": 0,
      "outputs": []
    },
    {
      "cell_type": "code",
      "metadata": {
        "id": "uRHhzAWH5MB5",
        "colab_type": "code",
        "colab": {}
      },
      "source": [
        "# Loading the dataset\n",
        "trainloader = torch.utils.data.DataLoader(trainset, batch_size=batch_size,\n",
        "                                          shuffle=True, num_workers=2)\n",
        "testloader = torch.utils.data.DataLoader(testset, batch_size=batch_size,\n",
        "                                         shuffle=True, num_workers=2)\n",
        "\n",
        "classes = ['airplane', 'automobile', 'bird', 'cat',\n",
        "           'deer', 'dog', 'frog', 'horse', 'ship', 'truck']\n"
      ],
      "execution_count": 0,
      "outputs": []
    },
    {
      "cell_type": "code",
      "metadata": {
        "id": "qxXlCmoL6FYm",
        "colab_type": "code",
        "colab": {}
      },
      "source": [
        "class Net(nn.Module):\n",
        "  def __init__(self,hidden_layer_1, hidden_layer_2):\n",
        "    super(Net, self).__init__()\n",
        "    self.conv1 = nn.Conv2d(in_channels=3, out_channels=32, kernel_size=3, stride=1, padding=1) # output size = 32x32\n",
        "    self.conv2 = nn.Conv2d(in_channels=32, out_channels=32, kernel_size=3, stride=1, padding=1) # output size = 32x32\n",
        "    self.batch1 = nn.BatchNorm2d(32)\n",
        "    self.pool1 = nn.MaxPool2d(kernel_size=2, stride=2) # output size = 16x16\n",
        "\n",
        "    self.conv3 = nn.Conv2d(in_channels=32,out_channels=64, kernel_size=3, stride=1,padding=1) # output size = 16x16\n",
        "    self.conv4 = nn.Conv2d(in_channels=64,out_channels=64, kernel_size=3, stride=1,padding=1) # output size = 16x16\n",
        "    self.batch2 = nn.BatchNorm2d(64) \n",
        "    self.pool2 = nn.MaxPool2d(kernel_size=2, stride=2) # output size = 8x8\n",
        "\n",
        "    self.conv5 = nn.Conv2d(in_channels=64,out_channels=128, kernel_size=3, stride=1, padding=1) # output size = 8x8\n",
        "    self.batch3 = nn.BatchNorm2d(128) \n",
        "    self.pool3 = nn.MaxPool2d(kernel_size=2, stride=2) # output size = 4x4\n",
        "\n",
        "    self.lin1 = nn.Linear(128*4*4, hidden_layer_1)\n",
        "    self.batch4 =nn.BatchNorm1d(hidden_layer_1)\n",
        "    self.lin2 = nn.Linear(hidden_layer_1,hidden_layer_2)\n",
        "    self.batch5 =nn.BatchNorm1d(hidden_layer_2)\n",
        "    self.lin3 = nn.Linear(hidden_layer_2,10)\n",
        "\n",
        "  def forward(self, x):\n",
        "    x = x.float()\n",
        "    x = self.conv1(x)   # Conv layer 1\n",
        "    x = self.conv2(x)   # Conv layer 2\n",
        "    x = F.relu(x)       # Relu activation function\n",
        "    x = self.batch1(x)  # Batch normalization Layer\n",
        "    x = self.pool1(x)   # Max pooling Layer\n",
        "\n",
        "    x = self.conv3(x)   # Conv layer 3\n",
        "    x = self.conv4(x)   # Conv layer 4\n",
        "    x = F.relu(x)       # Relu activation function\n",
        "    x = self.batch2(x)  # Batch normalization Layer\n",
        "    x = self.pool2(x)   # Max pooling Layer\n",
        "\n",
        "    x = self.conv5(x)   # Conv Layer 5\n",
        "    x = F.relu(x)       # Relu activation function\n",
        "    x = self.batch3(x)  # Batch normalization Layer\n",
        "    x = self.pool3(x)   # Max pooling Layer\n",
        "\n",
        "    x = x.view(-1, 128*4*4) # Flattening output of conv neural network into 1-dim\n",
        "    x = self.lin1(x)        # fully connected layer 1\n",
        "    x = F.relu(x)           # Relu activation function\n",
        "\n",
        "    x = self.lin2(x)        # fully connected layer 1\n",
        "    x = F.relu(x)           # Relu activation function\n",
        "\n",
        "    x = self.lin3(x)        # fully connected layer 1\n",
        "\n",
        "    return x\n"
      ],
      "execution_count": 0,
      "outputs": []
    },
    {
      "cell_type": "markdown",
      "metadata": {
        "id": "00I1L2rlKeK6",
        "colab_type": "text"
      },
      "source": [
        "**Output layer size formula** : [(n-f+2p)/s]+1\n",
        "\n",
        "where : *nxn* input, *fxf* filter size, *p* padding, *s* stride\n"
      ]
    },
    {
      "cell_type": "code",
      "metadata": {
        "id": "WsbO_xA96Q9i",
        "colab_type": "code",
        "colab": {}
      },
      "source": [
        "class train():\n",
        "  def __init__(self,net,no_of_epoches):\n",
        "    self.net = net.to(cuda0)\n",
        "    self.no_of_epoches = no_of_epoches\n",
        "\n",
        "  def train_network(self):\n",
        "    print(\"Training started...\")\n",
        "    for epoch in range(self.no_of_epoches):\n",
        "      self.total_loss = 0.0\n",
        "      for i,images in enumerate(trainloader,0):\n",
        "        image, label = images\n",
        "        image = image.to(cuda0)\n",
        "        label = label.to(cuda0)\n",
        "        optimizer.zero_grad()\n",
        "        output = self.net(image)\n",
        "        loss = criterion(output, label)\n",
        "        loss.backward()\n",
        "        optimizer.step()\n",
        "        self.total_loss += loss.item() \n",
        "      print(\"EPOCH : \"+str(epoch+1)+\"| Loss :\"+str(self.total_loss))\n",
        "    print(\"Training completed !\")"
      ],
      "execution_count": 0,
      "outputs": []
    },
    {
      "cell_type": "code",
      "metadata": {
        "id": "CRzWeaoZ6YxF",
        "colab_type": "code",
        "colab": {}
      },
      "source": [
        "class evaluate():\n",
        "  def __init__ (self, net, classes):\n",
        "    self.net = net.to(cuda0)\n",
        "    self.predicted = torch.tensor([0], device=cuda0)\n",
        "    self.true_classes = torch.tensor([0], device= cuda0)\n",
        "    self.correct_classes =0\n",
        "    self.classes = classes\n",
        "    self.dic = {}\n",
        "\n",
        "  def test(self):\n",
        "    print(\"Evaluation started...\")\n",
        "\n",
        "    for i, test_images in enumerate(testloader):\n",
        "      image, label = test_images\n",
        "      image = image.to(cuda0)\n",
        "      label = label.to(cuda0)\n",
        "      outputs = self.net(image)\n",
        "      _, pred = torch.max(outputs,1)\n",
        "      self.predicted = torch.cat([self.predicted,pred],0)\n",
        "      self.true_classes = torch.cat([self.true_classes,label],0)\n",
        "\n",
        "    self.predicted = self.predicted[1:]\n",
        "    self.true_classes = self.true_classes[1:]\n",
        "    self.check_performance_overall()\n",
        "\n",
        "  def check_performance_overall(self):\n",
        "    for i in range(self.predicted.shape[0]):\n",
        "      if self.predicted[i] == self.true_classes[i]:\n",
        "        self.correct_classes +=1\n",
        "        if self.predicted[i].item() not in self.dic.keys():\n",
        "          self.dic[self.predicted[i].item()] = 1\n",
        "        else:\n",
        "          self.dic[self.predicted[i].item()] += 1 \n",
        "        \n",
        "    print(\"Total Accuracy in % : \", self.correct_classes*100/self.predicted.shape[0])\n",
        "    self.check_performance_per_class()\n",
        "\n",
        "  def check_performance_per_class(self):\n",
        "    data = np.divide(list(self.dic.values()),1000)   \n",
        "    dataframe = pd.DataFrame(data=data, index=self.classes, columns=['Accuracy'])\n",
        "    print(\"\\nPerformance per class\")\n",
        "    print(dataframe)\n"
      ],
      "execution_count": 0,
      "outputs": []
    },
    {
      "cell_type": "code",
      "metadata": {
        "id": "OoyCD1PEWUIp",
        "colab_type": "code",
        "colab": {}
      },
      "source": [
        "#defining CNN \n",
        "net = Net(hidden_layer_1,hidden_layer_2)\n",
        "#defining loss function : cross entropy loss\n",
        "criterion = nn.CrossEntropyLoss()\n",
        "#defining optimizer : Stochastic gradient descent\n",
        "optimizer = optim.SGD(net.parameters(), lr=learning_rate, momentum=momentum)"
      ],
      "execution_count": 0,
      "outputs": []
    },
    {
      "cell_type": "code",
      "metadata": {
        "id": "8NOF-EGPWtqY",
        "colab_type": "code",
        "colab": {
          "base_uri": "https://localhost:8080/",
          "height": 476
        },
        "outputId": "f06c2c67-1271-4039-ae03-dd4386536bb8"
      },
      "source": [
        "# Training the network\n",
        "train_net=train(net, no_of_epoches)\n",
        "train_net.train_network()"
      ],
      "execution_count": 83,
      "outputs": [
        {
          "output_type": "stream",
          "text": [
            "Training started...\n",
            "EPOCH : 1| Loss :3646.927947193384\n",
            "EPOCH : 2| Loss :2334.7086061686277\n",
            "EPOCH : 3| Loss :1806.8390987217426\n",
            "EPOCH : 4| Loss :1414.6074264720082\n",
            "EPOCH : 5| Loss :1084.992445960641\n",
            "EPOCH : 6| Loss :793.9396838396788\n",
            "EPOCH : 7| Loss :552.8699273765087\n",
            "EPOCH : 8| Loss :404.59053230285645\n",
            "EPOCH : 9| Loss :308.4038810580969\n",
            "EPOCH : 10| Loss :222.6740596666932\n",
            "EPOCH : 11| Loss :174.16632789373398\n",
            "EPOCH : 12| Loss :139.53132029622793\n",
            "EPOCH : 13| Loss :104.1984837949276\n",
            "EPOCH : 14| Loss :99.91046011447906\n",
            "EPOCH : 15| Loss :98.25516854226589\n",
            "EPOCH : 16| Loss :72.6279126405716\n",
            "EPOCH : 17| Loss :58.36492218077183\n",
            "EPOCH : 18| Loss :51.91776901483536\n",
            "EPOCH : 19| Loss :54.34536826610565\n",
            "EPOCH : 20| Loss :46.72621840238571\n",
            "EPOCH : 21| Loss :43.99982608854771\n",
            "EPOCH : 22| Loss :37.37608578801155\n",
            "EPOCH : 23| Loss :25.077120512723923\n",
            "EPOCH : 24| Loss :17.988054871559143\n",
            "EPOCH : 25| Loss :13.527503043413162\n",
            "Training completed !\n"
          ],
          "name": "stdout"
        }
      ]
    },
    {
      "cell_type": "code",
      "metadata": {
        "id": "37zippT6P3Ol",
        "colab_type": "code",
        "colab": {
          "base_uri": "https://localhost:8080/",
          "height": 272
        },
        "outputId": "b6daae56-64b9-4b22-e68a-b7741e26de7e"
      },
      "source": [
        "# Evaluating the network\n",
        "evaluate_net = evaluate(net,classes)\n",
        "evaluate_net.test()"
      ],
      "execution_count": 84,
      "outputs": [
        {
          "output_type": "stream",
          "text": [
            "Evaluation started...\n",
            "Total Accuracy in % :  80.24\n",
            "\n",
            "Performance per class\n",
            "            Accuracy\n",
            "airplane       0.758\n",
            "automobile     0.903\n",
            "bird           0.880\n",
            "cat            0.868\n",
            "deer           0.865\n",
            "dog            0.845\n",
            "frog           0.669\n",
            "horse          0.847\n",
            "ship           0.788\n",
            "truck          0.601\n"
          ],
          "name": "stdout"
        }
      ]
    },
    {
      "cell_type": "code",
      "metadata": {
        "id": "BTryCTz3QJfs",
        "colab_type": "code",
        "colab": {}
      },
      "source": [
        "#Save the network\n",
        "PATH = './cifar_net.pth'\n",
        "torch.save(net.state_dict(), PATH)"
      ],
      "execution_count": 0,
      "outputs": []
    },
    {
      "cell_type": "code",
      "metadata": {
        "id": "L5_OU8p2XvIP",
        "colab_type": "code",
        "colab": {
          "base_uri": "https://localhost:8080/",
          "height": 289
        },
        "outputId": "bb4c0e36-cdeb-4244-dfce-0efd39339ca9"
      },
      "source": [
        "#load network\n",
        "PATH = './cifar_net.pth'\n",
        "net_loaded = Net(hidden_layer_1,hidden_layer_2)\n",
        "net_loaded.load_state_dict(torch.load(PATH))\n",
        "print(\"Model Loaded sucessfully.\")\n",
        "evaluate_net = evaluate(net_loaded.to(cuda0),classes)\n",
        "evaluate_net.test()"
      ],
      "execution_count": 87,
      "outputs": [
        {
          "output_type": "stream",
          "text": [
            "Model Loaded sucessfully.\n",
            "Evaluation started...\n",
            "Total Accuracy in % :  80.26\n",
            "\n",
            "Performance per class\n",
            "            Accuracy\n",
            "airplane       0.852\n",
            "automobile     0.753\n",
            "bird           0.607\n",
            "cat            0.902\n",
            "deer           0.879\n",
            "dog            0.790\n",
            "frog           0.665\n",
            "horse          0.863\n",
            "ship           0.869\n",
            "truck          0.846\n"
          ],
          "name": "stdout"
        }
      ]
    }
  ]
}